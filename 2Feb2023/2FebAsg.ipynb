{
 "cells": [
  {
   "cell_type": "markdown",
   "id": "777e3a26-6827-4186-a29c-f3a02df07b6b",
   "metadata": {},
   "source": [
    "Q1. Explain with an example each when to use a for loop and a while loop."
   ]
  },
  {
   "cell_type": "markdown",
   "id": "aba3d8bf-939f-4129-a697-204d6f4b086c",
   "metadata": {},
   "source": [
    "In Python, both for and while loops are used for repetitive tasks, but they have different use cases and are suited for different scenarios.\n",
    "For Loop:\n",
    "Use a for loop when you have a sequence of items (such as a list, tuple, string, or range) and you want to iterate through each item in the sequence a predetermined number of times."
   ]
  },
  {
   "cell_type": "code",
   "execution_count": 1,
   "id": "1a50355b-9127-4442-ba42-48b47b96bb4e",
   "metadata": {},
   "outputs": [
    {
     "name": "stdout",
     "output_type": "stream",
     "text": [
      "apple\n",
      "banana\n",
      "cherry\n"
     ]
    }
   ],
   "source": [
    "# Iterating through a list using a for loop\n",
    "fruits = [\"apple\", \"banana\", \"cherry\"]\n",
    "for fruit in fruits:\n",
    "    print(fruit)"
   ]
  },
  {
   "cell_type": "markdown",
   "id": "89dd7f2a-41f7-466b-8e44-bb52768ec835",
   "metadata": {},
   "source": [
    "While Loop:\n",
    "\n",
    "Use a while loop when you want to repeatedly execute a block of code as long as a certain condition remains True. The loop continues until the condition becomes False."
   ]
  },
  {
   "cell_type": "code",
   "execution_count": 2,
   "id": "32a340ba-c9c0-4269-836f-d20ba53f5eb5",
   "metadata": {},
   "outputs": [
    {
     "name": "stdout",
     "output_type": "stream",
     "text": [
      "1\n",
      "2\n",
      "3\n",
      "4\n",
      "5\n"
     ]
    }
   ],
   "source": [
    "# Using a while loop to count from 1 to 5\n",
    "count = 1\n",
    "while count <= 5:\n",
    "    print(count)\n",
    "    count += 1"
   ]
  },
  {
   "cell_type": "markdown",
   "id": "d4873b38-89e3-4f13-b00b-4749ca6ded98",
   "metadata": {},
   "source": [
    "Q2. Write a python program to print the sum and product of the first 10 natural numbers using for\n",
    "and while loop."
   ]
  },
  {
   "cell_type": "code",
   "execution_count": 3,
   "id": "911edf60-26e0-4744-a3e2-21147d4e8114",
   "metadata": {},
   "outputs": [
    {
     "name": "stdout",
     "output_type": "stream",
     "text": [
      "55\n",
      "3628800\n"
     ]
    }
   ],
   "source": [
    "#Using For Loop\n",
    "addition = 0\n",
    "product = 1\n",
    "for i in range (1,11):\n",
    "    addition = addition + i\n",
    "    product = product * i\n",
    "    \n",
    "print(addition)\n",
    "print(product)\n",
    "    \n",
    "    "
   ]
  },
  {
   "cell_type": "code",
   "execution_count": 5,
   "id": "3743651f-db21-4b19-81a9-094a3b733ed2",
   "metadata": {},
   "outputs": [
    {
     "name": "stdout",
     "output_type": "stream",
     "text": [
      "55\n",
      "3628800\n"
     ]
    }
   ],
   "source": [
    "#Using While Loop\n",
    "addition = 0\n",
    "product = 1\n",
    "i=1\n",
    "while(i<=10):\n",
    "    addition = addition + i\n",
    "    product = product * i\n",
    "    i=i+1\n",
    "    \n",
    "print(addition)\n",
    "print(product)"
   ]
  },
  {
   "cell_type": "markdown",
   "id": "d9a446b9-f8b9-4210-88a2-1d07bea356d4",
   "metadata": {},
   "source": [
    "Q3. Create a python program to compute the electricity bill for a household.\n",
    "The per-unit charges in rupees are as follows: For the first 100 units, the user will be charged Rs. 4.5 per\n",
    "unit, for the next 100 units, the user will be charged Rs. 6 per unit, and for the next 100 units, the user will\n",
    "be charged Rs. 10 per unit, After 300 units and above the user will be charged Rs. 20 per unit.\n",
    "You are required to take the units of electricity consumed in a month from the user as input.\n",
    "Your program must pass this test case: when the unit of electricity consumed by the user in a month is\n",
    "310, the total electricity bill should be 2250."
   ]
  },
  {
   "cell_type": "code",
   "execution_count": 21,
   "id": "a96d682f-1481-4636-8ecb-8ad5892577f4",
   "metadata": {},
   "outputs": [
    {
     "name": "stdin",
     "output_type": "stream",
     "text": [
      "Enter Units Consumed 212\n"
     ]
    },
    {
     "name": "stdout",
     "output_type": "stream",
     "text": [
      "1170.0\n"
     ]
    }
   ],
   "source": [
    "#Electricity Bill\n",
    "units = int(input(\"Enter Units Consumed\"))\n",
    "charge = 0\n",
    "\n",
    "if units >=300:\n",
    "    charge = (units-300)*20 + 100*10 + 100*6 + 100 * 4.5\n",
    "elif units >=200:\n",
    "    charge = (units-200)*10 + 100*6 + 100 * 4.5\n",
    "elif units >=100:\n",
    "    charge = (units-100)*6 + 100 * 4.5\n",
    "else:\n",
    "    charge = units * 4.5\n",
    "    \n",
    "print(charge)"
   ]
  },
  {
   "cell_type": "markdown",
   "id": "864547ef-8052-41ab-b5a8-ea5bc356eeb0",
   "metadata": {},
   "source": [
    "Q4. Create a list of numbers from 1 to 100. Use for loop and while loop to calculate the cube of each\n",
    "number and if the cube of that number is divisible by 4 or 5 then append that number in a list and print\n",
    "that list."
   ]
  },
  {
   "cell_type": "code",
   "execution_count": 30,
   "id": "2be73d7c-3c0a-4f01-a11d-fadaa1d60cce",
   "metadata": {},
   "outputs": [],
   "source": [
    "#Using For Loop\n",
    "NewList = []\n",
    "\n",
    "for i in range(1,101):\n",
    "    if(i**3%4==0 or i**3%5==0):\n",
    "        NewList.append(i)"
   ]
  },
  {
   "cell_type": "code",
   "execution_count": 32,
   "id": "d9a9c150-2b5b-4d75-96eb-61cfd33ebaab",
   "metadata": {},
   "outputs": [
    {
     "data": {
      "text/plain": [
       "[2,\n",
       " 4,\n",
       " 5,\n",
       " 6,\n",
       " 8,\n",
       " 10,\n",
       " 12,\n",
       " 14,\n",
       " 15,\n",
       " 16,\n",
       " 18,\n",
       " 20,\n",
       " 22,\n",
       " 24,\n",
       " 25,\n",
       " 26,\n",
       " 28,\n",
       " 30,\n",
       " 32,\n",
       " 34,\n",
       " 35,\n",
       " 36,\n",
       " 38,\n",
       " 40,\n",
       " 42,\n",
       " 44,\n",
       " 45,\n",
       " 46,\n",
       " 48,\n",
       " 50,\n",
       " 52,\n",
       " 54,\n",
       " 55,\n",
       " 56,\n",
       " 58,\n",
       " 60,\n",
       " 62,\n",
       " 64,\n",
       " 65,\n",
       " 66,\n",
       " 68,\n",
       " 70,\n",
       " 72,\n",
       " 74,\n",
       " 75,\n",
       " 76,\n",
       " 78,\n",
       " 80,\n",
       " 82,\n",
       " 84,\n",
       " 85,\n",
       " 86,\n",
       " 88,\n",
       " 90,\n",
       " 92,\n",
       " 94,\n",
       " 95,\n",
       " 96,\n",
       " 98,\n",
       " 100]"
      ]
     },
     "execution_count": 32,
     "metadata": {},
     "output_type": "execute_result"
    }
   ],
   "source": [
    "NewList"
   ]
  },
  {
   "cell_type": "code",
   "execution_count": 35,
   "id": "cb93d704-48c6-4998-ab17-b5264073129a",
   "metadata": {},
   "outputs": [],
   "source": [
    "#Using while loop\n",
    "NewList_while = []\n",
    "i=1\n",
    "while(i<=100):\n",
    "    if(i**3%4==0 or i**3%5==0):\n",
    "        NewList_while.append(i)\n",
    "    i = i+1"
   ]
  },
  {
   "cell_type": "code",
   "execution_count": 36,
   "id": "8fe45c1e-d31c-4cad-ad79-7d8458b63c55",
   "metadata": {},
   "outputs": [
    {
     "data": {
      "text/plain": [
       "[2,\n",
       " 4,\n",
       " 5,\n",
       " 6,\n",
       " 8,\n",
       " 10,\n",
       " 12,\n",
       " 14,\n",
       " 15,\n",
       " 16,\n",
       " 18,\n",
       " 20,\n",
       " 22,\n",
       " 24,\n",
       " 25,\n",
       " 26,\n",
       " 28,\n",
       " 30,\n",
       " 32,\n",
       " 34,\n",
       " 35,\n",
       " 36,\n",
       " 38,\n",
       " 40,\n",
       " 42,\n",
       " 44,\n",
       " 45,\n",
       " 46,\n",
       " 48,\n",
       " 50,\n",
       " 52,\n",
       " 54,\n",
       " 55,\n",
       " 56,\n",
       " 58,\n",
       " 60,\n",
       " 62,\n",
       " 64,\n",
       " 65,\n",
       " 66,\n",
       " 68,\n",
       " 70,\n",
       " 72,\n",
       " 74,\n",
       " 75,\n",
       " 76,\n",
       " 78,\n",
       " 80,\n",
       " 82,\n",
       " 84,\n",
       " 85,\n",
       " 86,\n",
       " 88,\n",
       " 90,\n",
       " 92,\n",
       " 94,\n",
       " 95,\n",
       " 96,\n",
       " 98,\n",
       " 100]"
      ]
     },
     "execution_count": 36,
     "metadata": {},
     "output_type": "execute_result"
    }
   ],
   "source": [
    "NewList_while"
   ]
  },
  {
   "cell_type": "markdown",
   "id": "6137f656-93df-41f4-88b9-29943d64939e",
   "metadata": {},
   "source": [
    "Q5. Write a program to filter count vowels in the below-given string.\n",
    "string = \"I want to become a data scientist\""
   ]
  },
  {
   "cell_type": "code",
   "execution_count": 46,
   "id": "979ee6d0-9067-4226-97da-89cc32e5317e",
   "metadata": {},
   "outputs": [],
   "source": [
    "string = \"I want to become a data scientist\"\n",
    "count=0\n",
    "\n",
    "for i in range(0,len(string)):\n",
    "    if(string[i] in ('a','e','i','o','u','A','E','I','O','U')):\n",
    "        count=count+1"
   ]
  },
  {
   "cell_type": "code",
   "execution_count": 47,
   "id": "301def6a-9838-479d-81cc-2cbd56b27e08",
   "metadata": {},
   "outputs": [
    {
     "data": {
      "text/plain": [
       "12"
      ]
     },
     "execution_count": 47,
     "metadata": {},
     "output_type": "execute_result"
    }
   ],
   "source": [
    "count"
   ]
  }
 ],
 "metadata": {
  "kernelspec": {
   "display_name": "Python 3 (ipykernel)",
   "language": "python",
   "name": "python3"
  },
  "language_info": {
   "codemirror_mode": {
    "name": "ipython",
    "version": 3
   },
   "file_extension": ".py",
   "mimetype": "text/x-python",
   "name": "python",
   "nbconvert_exporter": "python",
   "pygments_lexer": "ipython3",
   "version": "3.10.8"
  }
 },
 "nbformat": 4,
 "nbformat_minor": 5
}
